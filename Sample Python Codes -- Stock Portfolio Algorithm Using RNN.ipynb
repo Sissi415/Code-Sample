{
 "cells": [
  {
   "cell_type": "markdown",
   "metadata": {},
   "source": [
    " **Goal**: create a competive portfolio strategy (with either one of the following objectives)\n",
    "    1. Max final account balance on 7/1/2018 (in other words,return rate)\n",
    "    2. Min standard deviation of the daily account balance in the period of 4/1/2018-7/1/2018  (In finace, we use std to represent the portfolio risk level)\n",
    "**Available raw data**: \n",
    "    1. 2 year closing prices and daily volume for 63 stocks (stocks were randomly selected from Small, Mid, Large Cap SP Index)\n",
    "    2. Time range: 3/1/2016-3/1/2018\n",
    "    \n",
    "**Algorithm Testing data and trading rule**\n",
    "    1. 4/1/2018-7/1/2018 real time prices for the stock pool\n",
    "    2. For each trade on each stock, a 5 dollars commision fee will be executed. Lot size is immaterial. All transaction fee would be only substracted at the end pf 3-month investing period\n",
    "    "
   ]
  },
  {
   "cell_type": "markdown",
   "metadata": {},
   "source": [
    "## Libraries and modules needed"
   ]
  },
  {
   "cell_type": "code",
   "execution_count": 5,
   "metadata": {},
   "outputs": [],
   "source": [
    "import scipy as sp\n",
    "import numpy as np \n",
    "import pandas as pd\n",
    "import matplotlib.pyplot as plt\n",
    "%matplotlib inline\n",
    "import datetime\n",
    "from datetime import timedelta\n",
    "import seaborn as sns\n",
    "\n",
    "from sklearn.decomposition import PCA\n",
    "from sklearn.preprocessing import scale\n",
    "from sklearn.preprocessing import MinMaxScaler\n",
    "from sklearn.preprocessing import StandardScaler\n",
    "from sklearn.model_selection import train_test_split\n",
    "from sklearn.metrics import confusion_matrix,classification_report\n",
    "from sklearn.linear_model import LinearRegression\n",
    "from sklearn.linear_model import LogisticRegression\n",
    "from sklearn import metrics\n",
    "from sklearn.metrics import mean_squared_error\n",
    "\n",
    "from scipy.optimize import linprog\n",
    "from scipy.optimize import minimize \n",
    "\n",
    "float_formatter = lambda x:\"%.4f\" %x if x>=0 else \"%.4f\"%x\n",
    "np.set_printoptions(formatter={'float_kind':float_formatter})\n",
    "pd.options.display.float_format='{:20,.4f}'.format"
   ]
  },
  {
   "cell_type": "markdown",
   "metadata": {},
   "source": [
    "## Importing data and separate training and testing data sets\n",
    "1. **Raw data**: 3/1/2016--3/1/2018\n",
    "2. **Algorithm testing data**: 4/1/2018-7/1/2018\n"
   ]
  },
  {
   "cell_type": "code",
   "execution_count": 60,
   "metadata": {},
   "outputs": [],
   "source": [
    "#PLease change the data location to make sure it could run successfully\n",
    "rawdata_price = pd.read_csv(\"Python Example Cleco/Data/ClosingPriceData(6.30).csv\")\n",
    "#rawdata_volume = pd.read_csv(\"Python Example Cleco/Data/VolumeData(6.30).csv\")\n",
    "rawdata_price=rawdata_price.drop([\"Date\"],axis=1);#rawdata_volume=rawdata_volume.drop([\"Date\"],axis=1)\n",
    "#Separating available raw data and algorithm testing data\n",
    "rawdata_price_train =rawdata_price.head(525); #rawdata_volume_train=rawdata_volume.head(525)\n",
    "rawdata_price_test=rawdata_price.tail(64);#rawdata_volume_test = rawdata_volume.tail(64)"
   ]
  },
  {
   "cell_type": "code",
   "execution_count": 61,
   "metadata": {},
   "outputs": [
    {
     "data": {
      "text/plain": [
       "(589, 63)"
      ]
     },
     "execution_count": 61,
     "metadata": {},
     "output_type": "execute_result"
    }
   ],
   "source": [
    "rawdata_price.shape"
   ]
  },
  {
   "cell_type": "markdown",
   "metadata": {},
   "source": [
    "## Using RNN to predict future stock prices \n",
    "* Importing the Keras Sequential model since our RNN will be in order\n",
    "* Importing the Dense Layers for nodes\n",
    "* Applying LSTM layer for time series\n",
    "* In this example, we will only use today's stock price (P_t) as the only input, and the output Y will be the tomorrow's stock price (P_t+1) \n",
    "* **Feature selection for RNN models**:\n",
    "    * Feature Seletion could be another whole charper discussion, but won't be included in this example. \n",
    "    * Parameters for the model also could be another whole chapter discussion, so the selection for optimal parameters also won't be discussed here.\n",
    "    * **Possible Features (inputs)**\n",
    "        * today's stock price (only 1 input)\n",
    "        * today's stock volume (only 1 input)\n",
    "        * last weeks' stocks prices (5 inputs)\n",
    "        * last weeks' stock volume (5 inputs)\n",
    "        * today's stock price + today's stock volume (2 inputs)\n",
    "        * any other possible combinations"
   ]
  },
  {
   "cell_type": "code",
   "execution_count": 62,
   "metadata": {},
   "outputs": [],
   "source": [
    "import tensorflow as tf\n",
    "from keras.models import Sequential \n",
    "from keras.layers import Dense \n",
    "from keras.layers import LSTM"
   ]
  },
  {
   "cell_type": "code",
   "execution_count": 63,
   "metadata": {},
   "outputs": [],
   "source": [
    "class RNNPredictionModel():\n",
    "    def features(self,df,timeinterval):\n",
    "        #Parameters\n",
    "        Rows=len(df)\n",
    "        #Define features\n",
    "        feature = pd.DataFrame(df[:-timeinterval])\n",
    "        feature.columns=[\"Feature Input\"]\n",
    "        return feature\n",
    "    \n",
    "    def output_y(self,df,timeinterval):\n",
    "        Output_y=pd.DataFrame(df[timeinterval:])\n",
    "        Output_y.columns=[\"Output Y\"]\n",
    "        return Output_y\n",
    "\n",
    "\n",
    "    def generate_one_dataframe(self,df,timeinterval):\n",
    "        n= df.shape[0]\n",
    "        train_start = 0; train_end = 525\n",
    "        test_start = train_end;test_end=n\n",
    "        data_train=df[train_start:train_end]\n",
    "        data_test=df[test_start:test_end]\n",
    "        # we have to scale all data in the same numerical level\n",
    "        scaler=MinMaxScaler()\n",
    "        scaler.fit(data_train)\n",
    "        data_train=scaler.transform(data_train);data_test=scaler.transform(data_test)\n",
    "        # training data\n",
    "        x_train=data_train[:-1];y_train=data_train[1:]\n",
    "        rows_train=x_train.shape[0]\n",
    "        #testing data\n",
    "        x_test=data_test[:-1];y_test=data_test[1:]\n",
    "        rows_test=x_test.shape[0]\n",
    "        # Reshaping data into three dimensions: [batch size,timesteps,input_dim]\n",
    "        # batch size= rows_train; timesteps=1,input_dim=#features=1\n",
    "        x_train=np.reshape(x_train,(rows_train,1,1))\n",
    "        x_test=np.reshape(x_test,(rows_test,1,1))\n",
    "        #Initializing the RNN, and call it regressor \n",
    "        regressor=tf.keras.Sequential()\n",
    "        #Adding input layer and the lSTM layer\n",
    "        regressor.add(tf.keras.layers.LSTM(50,return_sequences=True,input_shape=(x_train.shape[1],x_train.shape[2])))\n",
    "        regressor.add(tf.keras.layers.LSTM(units=4,return_sequences=True))\n",
    "        regressor.add(tf.keras.layers.LSTM(units=4))\n",
    "        #Adding output layer \n",
    "        regressor.add(tf.keras.layers.Dense(units=1,activation='sigmoid'))\n",
    "        #Compiling the RNN \n",
    "        regressor.compile(loss='mean_squared_error',optimizer='adam')\n",
    "        #Fitting the RNN to the training set \n",
    "        regressor.fit(x_train,y_train,batch_size=32,epochs=300)\n",
    "        predicted_scaled=regressor.predict(x_test)\n",
    "        predicted_reversed=scaler.inverse_transform(predicted_scaled)\n",
    "        Predicted_reversed_final=pd.DataFrame(predicted_reversed,columns=df.columns)\n",
    "        \n",
    "        return Predicted_reversed_final\n",
    "\n",
    "    def generate_final_dataframe(self):\n",
    "        predictedResult_all=pd.DataFrame()\n",
    "        for stockname in rawdata_price.columns:\n",
    "            df=rawdata_price[[stockname]]\n",
    "            timeinterval=1\n",
    "            predictedResult_onestock= self.generate_one_dataframe(df,timeinterval)\n",
    "            predictedResult_all=pd.concat((predictedResult_all,predictedResult_onestock),axis=1)\n",
    "            \n",
    "        return predictedResult_all\n",
    "    "
   ]
  },
  {
   "cell_type": "code",
   "execution_count": null,
   "metadata": {},
   "outputs": [],
   "source": [
    "# Generating all predicted prices for all stocks\n",
    "Predictions=RNNPredictionModel().generate_final_dataframe()\n",
    "# Export results to cvs\n",
    "Predictions.to_csv(\"PredictionPrices.csv\")"
   ]
  },
  {
   "cell_type": "markdown",
   "metadata": {},
   "source": [
    "### Visulization results of one stock to see the accuracy level of the RNN prediction model\n",
    "* Example: Stock \"GE\"\n",
    "* Comparing the predicted prices to the real prices"
   ]
  },
  {
   "cell_type": "code",
   "execution_count": null,
   "metadata": {},
   "outputs": [],
   "source": [
    "df=rawdata_price[[\"GE\"]]\n",
    "n= df.shape[0]\n",
    "train_start = 0; train_end = 525\n",
    "test_start = train_end;test_end=n\n",
    "data_train=df[train_start:train_end]\n",
    "data_test=df[test_start:test_end]\n",
    "# we have to scale all data in the same numerical level\n",
    "scaler=MinMaxScaler()\n",
    "scaler.fit(data_train)\n",
    "data_train=scaler.transform(data_train);data_test=scaler.transform(data_test)\n",
    "# training data\n",
    "x_train=data_train[:-1];y_train=data_train[1:]\n",
    "rows_train=x_train.shape[0]\n",
    "#testing data\n",
    "x_test=data_test[:-1];y_test=data_test[1:]\n",
    "rows_test=x_test.shape[0]\n",
    "x_train=np.reshape(x_train,(rows_train,1,1))\n",
    "x_test=np.reshape(x_test,(rows_test,1,1))\n",
    "#Initializing the RNN, and call it regressor \n",
    "regressor=tf.keras.Sequential()\n",
    "#Adding input layer and the lSTM layer\n",
    "regressor.add(tf.keras.layers.LSTM(50,return_sequences=True,input_shape=(x_train.shape[1],x_train.shape[2])))\n",
    "regressor.add(tf.keras.layers.LSTM(units=4,return_sequences=True))\n",
    "regressor.add(tf.keras.layers.LSTM(units=4))\n",
    "#Adding output layer \n",
    "regressor.add(tf.keras.layers.Dense(units=1,activation='sigmoid'))\n",
    "#Compiling the RNN \n",
    "regressor.compile(loss='mean_squared_error',optimizer='adam')\n",
    "#Fitting the RNN to the training set \n",
    "regressor.fit(x_train,y_train,batch_size=32,epochs=300)\n",
    "predicted_scaled=regressor.predict(x_test)\n",
    "predicted_reversed=scaler.inverse_transform(predicted_scaled)"
   ]
  },
  {
   "cell_type": "code",
   "execution_count": 65,
   "metadata": {
    "scrolled": true
   },
   "outputs": [
    {
     "data": {
      "text/html": [
       "<div>\n",
       "<style scoped>\n",
       "    .dataframe tbody tr th:only-of-type {\n",
       "        vertical-align: middle;\n",
       "    }\n",
       "\n",
       "    .dataframe tbody tr th {\n",
       "        vertical-align: top;\n",
       "    }\n",
       "\n",
       "    .dataframe thead th {\n",
       "        text-align: right;\n",
       "    }\n",
       "</style>\n",
       "<table border=\"1\" class=\"dataframe\">\n",
       "  <thead>\n",
       "    <tr style=\"text-align: right;\">\n",
       "      <th></th>\n",
       "      <th>Prediction</th>\n",
       "      <th>RealPrice</th>\n",
       "    </tr>\n",
       "  </thead>\n",
       "  <tbody>\n",
       "    <tr>\n",
       "      <th>0</th>\n",
       "      <td>13.9696</td>\n",
       "      <td>13.1300</td>\n",
       "    </tr>\n",
       "    <tr>\n",
       "      <th>1</th>\n",
       "      <td>13.9719</td>\n",
       "      <td>13.2800</td>\n",
       "    </tr>\n",
       "    <tr>\n",
       "      <th>2</th>\n",
       "      <td>14.0080</td>\n",
       "      <td>13.4300</td>\n",
       "    </tr>\n",
       "    <tr>\n",
       "      <th>3</th>\n",
       "      <td>14.0487</td>\n",
       "      <td>13.0600</td>\n",
       "    </tr>\n",
       "    <tr>\n",
       "      <th>4</th>\n",
       "      <td>13.9566</td>\n",
       "      <td>12.8300</td>\n",
       "    </tr>\n",
       "  </tbody>\n",
       "</table>\n",
       "</div>"
      ],
      "text/plain": [
       "            Prediction            RealPrice\n",
       "0              13.9696              13.1300\n",
       "1              13.9719              13.2800\n",
       "2              14.0080              13.4300\n",
       "3              14.0487              13.0600\n",
       "4              13.9566              12.8300"
      ]
     },
     "execution_count": 65,
     "metadata": {},
     "output_type": "execute_result"
    }
   ],
   "source": [
    "real_scaled = y_test\n",
    "real_price = scaler.inverse_transform(y_test)\n",
    "results_comparison= pd.concat([pd.DataFrame(predicted_reversed,columns =['Prediction']),pd.DataFrame(real_price,columns=['RealPrice'])],axis=1)\n",
    "results_comparison.head()"
   ]
  },
  {
   "cell_type": "markdown",
   "metadata": {},
   "source": [
    "### Visualization: real vs predicteed"
   ]
  },
  {
   "cell_type": "code",
   "execution_count": 66,
   "metadata": {
    "scrolled": true
   },
   "outputs": [
    {
     "data": {
      "image/png": "[encoded data removed]",
      "text/plain": [
       "<Figure size 432x288 with 1 Axes>"
      ]
     },
     "metadata": {
      "needs_background": "light"
     },
     "output_type": "display_data"
    }
   ],
   "source": [
    "plt.plot(real_price, color = 'red',label = 'Real Price')\n",
    "plt.plot(predicted_reversed,color = 'blue',label= 'Predicted price')\n",
    "plt.title('GE Stock price prediction-- one price feature')\n",
    "plt.xlabel('Days')\n",
    "plt.ylabel('Stock Price')\n",
    "plt.legend()\n",
    "plt.show()"
   ]
  },
  {
   "cell_type": "markdown",
   "metadata": {},
   "source": [
    "**Using the predicted prices to build portfolio simulation model**\n",
    "* daily return rate = $\\frac{P_t}{P_{t-1}}-1$\n",
    "* E(Return) = $\\frac{\\sum_t R_t}{T}$\n",
    "* Variance = $W^T * \\Sigma * W$"
   ]
  },
  {
   "cell_type": "code",
   "execution_count": 68,
   "metadata": {},
   "outputs": [
    {
     "data": {
      "text/plain": [
       "Text(0, 0.5, 'Returns')"
      ]
     },
     "execution_count": 68,
     "metadata": {},
     "output_type": "execute_result"
    },
    {
     "data": {
      "image/png": "[encoded data removed]",
      "text/plain": [
       "<Figure size 432x288 with 2 Axes>"
      ]
     },
     "metadata": {
      "needs_background": "light"
     },
     "output_type": "display_data"
    }
   ],
   "source": [
    "#calculate the daily return rate\n",
    "returns =(Predictions.pct_change()*100)[1:]\n",
    "mean_daily_returns=returns.mean() #stock mean \n",
    "#calculate the covariance matrix for the return rate\n",
    "cov_matrix = returns.cov()\n",
    "#set the simulation times fot random portfolio weights\n",
    "num_simulation=50000\n",
    "results=np.zeros((66,num_simulation))\n",
    "#calculte the return and volatility for each possible portfolio combination\n",
    "for i in range(num_simulation):\n",
    "    weights= np.array(np.random.random(63))\n",
    "    weights/=np.sum(weights)\n",
    "    #calculate yearly return and volatility \n",
    "    portfolio_return = np.sum(mean_daily_returns*weights)*252\n",
    "    portfolio_std = np.sqrt(252 * np.dot(weights.T,np.dot(cov_matrix,weights)))\n",
    "    \n",
    "    #Store results\n",
    "    results[0,i] = portfolio_return\n",
    "    results[1,i] = portfolio_std\n",
    "    ### sharp ratio = return / std\n",
    "    results[2,i] = results[0,i]/results[1,i]\n",
    "\n",
    "    ####adding weights columns\n",
    "    for j in range(len(weights)):\n",
    "        results[j+3,i]=weights[j]\n",
    "\n",
    "    # DataFrame\n",
    "    a2=['return','std','sharpe']\n",
    "    a1=list(Predictions.columns.values)\n",
    "    results_frame = pd.DataFrame(results.T,columns =a2+a1)\n",
    "####locate positions of portfolio with the highest sharp ratio\n",
    "max_sharpe_ratio = results_frame.loc[results_frame['sharpe']==max(results_frame['sharpe'])]\n",
    "#max_sharp_ratio=np.asanyarray(max_sharp_ratio)\n",
    "min_vol_port = results_frame.loc[results_frame['std']==min(results_frame['std'])]\n",
    "# max return\n",
    "max_return_port = results_frame.loc[results_frame['return']==max(results_frame['return'])]\n",
    "\n",
    "# Create scatter plot colored by Sharp Ratio\n",
    "plt.scatter(results_frame['std'],results_frame['return'],c=results_frame['sharpe'],cmap='viridis')\n",
    "plt.colorbar()  \n",
    "plt.xlabel('Volatility')\n",
    "plt.ylabel('Returns')"
   ]
  },
  {
   "cell_type": "code",
   "execution_count": 69,
   "metadata": {
    "scrolled": true
   },
   "outputs": [
    {
     "name": "stdout",
     "output_type": "stream",
     "text": [
      "(1, 63)\n"
     ]
    },
    {
     "data": {
      "text/plain": [
       "0                 0.5395\n",
       "dtype: float64"
      ]
     },
     "execution_count": 69,
     "metadata": {},
     "output_type": "execute_result"
    }
   ],
   "source": [
    "# Selecting the portfolio with Min Std\n",
    "min_std=results_frame.loc[results_frame['std']==min(results_frame['std'])]\n",
    "real_weights=min_std.drop(['return','std','sharpe'],axis=1)\n",
    "print(real_weights.shape)\n",
    "account_share = np.array(real_weights*100000)/np.array(Predictions.head(1))\n",
    "account_balance = np.dot(np.array(Predictions),account_share.T)\n",
    "#Deducting the comnission fee for trading 63 stocks at the 1st trading day  \n",
    "account_balance[0] = 100000-63*5\n",
    "account_change = (pd.DataFrame(account_balance).pct_change()*100)[1:]\n",
    "np.std(account_change)"
   ]
  },
  {
   "cell_type": "markdown",
   "metadata": {},
   "source": [
    "### Conclusion \n",
    " * Portfolio Weights using our strategy"
   ]
  },
  {
   "cell_type": "code",
   "execution_count": 70,
   "metadata": {},
   "outputs": [
    {
     "data": {
      "text/html": [
       "<div>\n",
       "<style scoped>\n",
       "    .dataframe tbody tr th:only-of-type {\n",
       "        vertical-align: middle;\n",
       "    }\n",
       "\n",
       "    .dataframe tbody tr th {\n",
       "        vertical-align: top;\n",
       "    }\n",
       "\n",
       "    .dataframe thead th {\n",
       "        text-align: right;\n",
       "    }\n",
       "</style>\n",
       "<table border=\"1\" class=\"dataframe\">\n",
       "  <thead>\n",
       "    <tr style=\"text-align: right;\">\n",
       "      <th></th>\n",
       "      <th>GE</th>\n",
       "      <th>MMM</th>\n",
       "      <th>JNJ</th>\n",
       "      <th>PFE</th>\n",
       "      <th>AAPL</th>\n",
       "      <th>GOOGL</th>\n",
       "      <th>AMZN</th>\n",
       "      <th>CMCSA</th>\n",
       "      <th>NEE</th>\n",
       "      <th>DUK</th>\n",
       "      <th>...</th>\n",
       "      <th>IRDM</th>\n",
       "      <th>DWDP</th>\n",
       "      <th>SAFM</th>\n",
       "      <th>SF</th>\n",
       "      <th>ODFL</th>\n",
       "      <th>OGE</th>\n",
       "      <th>BCOR</th>\n",
       "      <th>SXI</th>\n",
       "      <th>PCH</th>\n",
       "      <th>IVR</th>\n",
       "    </tr>\n",
       "  </thead>\n",
       "  <tbody>\n",
       "    <tr>\n",
       "      <th>49227</th>\n",
       "      <td>0.0204</td>\n",
       "      <td>0.0119</td>\n",
       "      <td>0.0115</td>\n",
       "      <td>0.0247</td>\n",
       "      <td>0.0188</td>\n",
       "      <td>0.0144</td>\n",
       "      <td>0.0121</td>\n",
       "      <td>0.0140</td>\n",
       "      <td>0.0187</td>\n",
       "      <td>0.0292</td>\n",
       "      <td>...</td>\n",
       "      <td>0.0254</td>\n",
       "      <td>0.0166</td>\n",
       "      <td>0.0166</td>\n",
       "      <td>0.0022</td>\n",
       "      <td>0.0310</td>\n",
       "      <td>0.0111</td>\n",
       "      <td>0.0043</td>\n",
       "      <td>0.0123</td>\n",
       "      <td>0.0290</td>\n",
       "      <td>0.0293</td>\n",
       "    </tr>\n",
       "  </tbody>\n",
       "</table>\n",
       "<p>1 rows × 63 columns</p>\n",
       "</div>"
      ],
      "text/plain": [
       "                        GE                  MMM                  JNJ  \\\n",
       "49227               0.0204               0.0119               0.0115   \n",
       "\n",
       "                       PFE                 AAPL                GOOGL  \\\n",
       "49227               0.0247               0.0188               0.0144   \n",
       "\n",
       "                      AMZN                CMCSA                  NEE  \\\n",
       "49227               0.0121               0.0140               0.0187   \n",
       "\n",
       "                       DUK  ...                 IRDM                 DWDP  \\\n",
       "49227               0.0292  ...               0.0254               0.0166   \n",
       "\n",
       "                      SAFM                   SF                 ODFL  \\\n",
       "49227               0.0166               0.0022               0.0310   \n",
       "\n",
       "                       OGE                 BCOR                  SXI  \\\n",
       "49227               0.0111               0.0043               0.0123   \n",
       "\n",
       "                       PCH                  IVR  \n",
       "49227               0.0290               0.0293  \n",
       "\n",
       "[1 rows x 63 columns]"
      ]
     },
     "execution_count": 70,
     "metadata": {},
     "output_type": "execute_result"
    }
   ],
   "source": [
    "real_weights"
   ]
  }
 ],
 "metadata": {
  "kernelspec": {
   "display_name": "Python 3",
   "language": "python",
   "name": "python3"
  },
  "language_info": {
   "codemirror_mode": {
    "name": "ipython",
    "version": 3
   },
   "file_extension": ".py",
   "mimetype": "text/x-python",
   "name": "python",
   "nbconvert_exporter": "python",
   "pygments_lexer": "ipython3",
   "version": "3.7.3"
  }
 },
 "nbformat": 4,
 "nbformat_minor": 2
}
